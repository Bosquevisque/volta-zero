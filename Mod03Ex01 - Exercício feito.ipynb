{
 "cells": [
  {
   "cell_type": "markdown",
   "metadata": {
    "id": "SEE0vQsW83yB"
   },
   "source": [
    "### 01 - Teste de gravidez\n",
    "Escreva uma célula com controle de fluxos que tem como premissa a existência das seguintes variáveis:\n",
    "\n",
    "- ```sexo``` como ```str``` indicando os valores '**M**' para masculino e '**F**' para feminino  \n",
    "- ```beta_hcg``` que indica a quantidade do beta-HCG no sangue em mUI/mL.\n",
    "\n",
    "A sua tarefa é escrever um código que imprima como resultado \"indivíduo do sexo masculino\" quando sexo = 'M', caso sexo = 'F', se o valor de beta-HCG for maior que 5, retorne \"Positivo\" indicando que a paciente está grávida, e retorne \"Negativo\" caso contrário.\n",
    "\n",
    "Não mexa nos valores da variável ```sexo``` nem em ```beta_hcg```, e escreva um código que funcione para quaisquer valores possíveis de ambos: ```sexo``` = '**M**' ou '**F**' e ```beta_hcg``` assumindo valores inteiros positivos."
   ]
  },
  {
   "cell_type": "code",
   "execution_count": 138,
   "metadata": {
    "id": "cTOc4LG683yE"
   },
   "outputs": [
    {
     "name": "stdout",
     "output_type": "stream",
     "text": [
      "indivíduo do sexo masculino\n"
     ]
    }
   ],
   "source": [
    "sexo = 'M'\n",
    "beta_hcg = 0\n",
    "\n",
    "# seu código vem abaixo desta linha\n",
    "if sexo == 'M':\n",
    "    print(\"indivíduo do sexo masculino\")\n",
    "elif sexo == 'F':\n",
    "    print(\"indivíduo do sexo Feminino\")"
   ]
  },
  {
   "cell_type": "code",
   "execution_count": 140,
   "metadata": {},
   "outputs": [
    {
     "name": "stdout",
     "output_type": "stream",
     "text": [
      "Negativo\n"
     ]
    }
   ],
   "source": [
    "if beta_hcg > 5:\n",
    "    print(\"Positivo\")\n",
    "else:\n",
    "    print(\"Negativo\")"
   ]
  },
  {
   "cell_type": "markdown",
   "metadata": {
    "id": "uCoIZDE383yF"
   },
   "source": [
    "### 02 - Renomeando variáveis\n",
    "\n",
    "Vamos ver adiante que uma forma de renomear variáveis de um conjunto de dados é através de dicionários - o dicionário deve conter como chave o nome original, associando a cada chave um único valor (tipo *str*) que contenha o nome novo.\n",
    "\n",
    "A sua tarefa é escrever um dicionário que possa ser utilizado para traduzir as variáveis ```name``` (nome), ```age``` (idade) e ```income``` (renda). Ou seja, esse dicionário deve relacionar as chaves *name, age* e *income* às suas respectivas traduções."
   ]
  },
  {
   "cell_type": "code",
   "execution_count": 148,
   "metadata": {
    "id": "Bh6ijpbu83yG",
    "outputId": "58fbd8da-ed1d-4e05-df85-041c821948f2"
   },
   "outputs": [
    {
     "data": {
      "text/plain": [
       "{'name': 'nome', 'age': 'idade', 'income': 'renda'}"
      ]
     },
     "execution_count": 148,
     "metadata": {},
     "output_type": "execute_result"
    }
   ],
   "source": [
    "dic_renomeacao = {\n",
    "    'name': 'nome',\n",
    "    'age': 'idade',\n",
    "    'income': 'renda'\n",
    "}\n",
    "\n",
    "dic_renomeacao\n"
   ]
  },
  {
   "cell_type": "code",
   "execution_count": 166,
   "metadata": {},
   "outputs": [
    {
     "data": {
      "text/plain": [
       "'idade'"
      ]
     },
     "execution_count": 166,
     "metadata": {},
     "output_type": "execute_result"
    }
   ],
   "source": [
    "dic_renomeacao['age']"
   ]
  },
  {
   "cell_type": "markdown",
   "metadata": {
    "id": "95zumO5g83yH"
   },
   "source": [
    "### 03 - É divisível?\n",
    "A sua tarefa é escrever um código que indique se um número ```N``` é divisível por um número P. Escreva um programa que faça essa verificação para quaisquer combinações de ```N``` e ```M``` e devolva uma mensagem indicativa no output."
   ]
  },
  {
   "cell_type": "code",
   "execution_count": 178,
   "metadata": {
    "id": "BR2zOhmN83yI"
   },
   "outputs": [
    {
     "name": "stdout",
     "output_type": "stream",
     "text": [
      "O número 42 é divisível por 7.\n"
     ]
    }
   ],
   "source": [
    "N = 42\n",
    "M = 7\n",
    "\n",
    "#Seu código\n",
    "if M != 0:  # O divisor não pode ser \"ZERO\"\n",
    "    if N % M == 0:\n",
    "        print(f\"O número {N} é divisível por {M}.\")\n",
    "    else:\n",
    "        print(f\"O número {N} não é divisível por {M}.\")\n",
    "else:\n",
    "    print(\"Erro: Divisão por zero não é permitida.\")"
   ]
  },
  {
   "cell_type": "markdown",
   "metadata": {
    "id": "0d5Kdrz283yJ"
   },
   "source": [
    "### 04 - Números primos\n",
    "> Um número **N** é primo se e somente se é divisível por 1, -1, por **N** e por -**N**.  \n",
    "\n",
    "Escreva um script que verifica se ```N``` é um número primo, verificando se ```N``` é divisível por todos os números de ```1``` a ```N-1```. Você vai precisar usar alguma ferramenta de *loop* que você aprendeu para isto. No final, devolva uma mensagem no output indicando se o número é primo ou não."
   ]
  },
  {
   "cell_type": "code",
   "execution_count": 300,
   "metadata": {
    "id": "h_lFO-EO83yJ"
   },
   "outputs": [
    {
     "name": "stdout",
     "output_type": "stream",
     "text": [
      "O número 47 é primo.\n"
     ]
    }
   ],
   "source": [
    "N = 47  \n",
    "\n",
    "# seu código abaixo\n",
    "\n",
    "if N > 1:  # Apenas números maiores que 1 podem ser primos\n",
    "    primo = True  # Inicialmente assumimos que N é primo\n",
    "    for i in range(2, N):  # Verifica divisores de 2 até N-1\n",
    "        if N % i == 0:  # Se N for divisível por i, não é primo\n",
    "            primo = False\n",
    "    if primo:\n",
    "        print(f\"O número {N} é primo.\")\n",
    "    else:\n",
    "        print(f\"O número {N} não é primo.\")\n",
    "else:\n",
    "    print(f\"O número {N} não é primo, pois é menor ou igual a 1.\")"
   ]
  },
  {
   "cell_type": "markdown",
   "metadata": {
    "id": "zHwDnURO83yK"
   },
   "source": [
    "### 05 - Desafio\n",
    "O algorítmo do exercício anterior não é o mais eficiente. O que você pode fazer para deixá-lo mais eficiente? Ou seja, executar menos comparações, portanto consumir menos tempo.\n",
    "1. Será que precisamos correr o loop até o final sempre?\n",
    "2. Será que precisamos mesmo verificar **todos** os números?\n",
    "3. Será que precisamos ir até N-1?\n",
    "\n",
    "Essas perguntas levam ao tipo de pensamento voltado a deixar um algoritmo mais eficiente. Veja se você consegue melhorar o seu."
   ]
  },
  {
   "cell_type": "code",
   "execution_count": 242,
   "metadata": {
    "id": "DDdwfZOL83yM"
   },
   "outputs": [
    {
     "name": "stdout",
     "output_type": "stream",
     "text": [
      "O número 47 é primo.\n"
     ]
    }
   ],
   "source": [
    "N = 98\n",
    "\n",
    "# seu código aqui\n",
    "\n",
    "if N > 1:\n",
    "    # Calcular a raiz quadrada de N manualmente ou podemos usar o \"import math\"\n",
    "    raiz = 1\n",
    "    while raiz * raiz <= N:\n",
    "        raiz += 1\n",
    "    raiz -= 1  # Ajusta para o maior inteiro tal que raiz^2 <= N\n",
    "\n",
    "    primo = True  # Inicialmente assumimos que N é primo\n",
    "    for i in range(2, raiz + 1):  # Verifica divisores até a raiz quadrada de N\n",
    "        if N % i == 0:  # Se N for divisível por i, não é primo\n",
    "            primo = False\n",
    "            break  # Saímos do loop assim que encontramos um divisor\n",
    "    if primo:\n",
    "        print(f\"O número {N} é primo.\")\n",
    "    else:\n",
    "        print(f\"O número {N} não é primo.\")\n",
    "else:\n",
    "    print(f\"O número {N} não é primo, pois é menor ou igual a 1.\")"
   ]
  },
  {
   "cell_type": "markdown",
   "metadata": {
    "id": "4zhVSQan83yN"
   },
   "source": [
    "### 06 - Peso ideal 1\n",
    "O IMC (índice de massa corpórea) é um indicador de saúde mais bem aceito que o peso. Ele é calculado como:\n",
    "\n",
    "$$ IMC = \\dfrac{peso}{altura^2}$$\n",
    "\n",
    "Segundo a OMS, valores *normais* são entre 18.5 e 24.9.\n",
    "\n",
    "Sua tarefa é encontrar o ponto médio dessa faixa."
   ]
  },
  {
   "cell_type": "code",
   "execution_count": 248,
   "metadata": {
    "id": "3DzxicN983yO",
    "outputId": "6a947e58-88b2-4764-a9ca-717b971adb3d"
   },
   "outputs": [
    {
     "name": "stdout",
     "output_type": "stream",
     "text": [
      "O IMC ideal é: 21.7\n"
     ]
    }
   ],
   "source": [
    "# Definir os limites inferior e superior da faixa normal do IMC\n",
    "imc_min = 18.5\n",
    "imc_max = 24.9\n",
    "\n",
    "# Calcular o ponto médio\n",
    "imc_ideal = (imc_min + imc_max) / 2\n",
    "\n",
    "# Exibir o resultado\n",
    "print(\"O IMC ideal é:\", imc_ideal)"
   ]
  },
  {
   "cell_type": "markdown",
   "metadata": {
    "id": "Z8uBOym483yP"
   },
   "source": [
    "### 07 - Peso ideal 2\n",
    "Recebendo um valor de altura, encontre o peso '*ideal*' dessa pessoa, que fornece o IMC encontrado acima"
   ]
  },
  {
   "cell_type": "code",
   "execution_count": 250,
   "metadata": {
    "id": "rrNwycte83yP",
    "outputId": "0e63b2ff-3743-48c7-a472-b48a450a0867"
   },
   "outputs": [
    {
     "name": "stdout",
     "output_type": "stream",
     "text": [
      "O peso ideal é: 62.712999999999994\n"
     ]
    }
   ],
   "source": [
    "altura = 1.70\n",
    "imc_ideal = 21.7\n",
    "\n",
    "# Calcular o peso ideal\n",
    "peso_ideal = imc_ideal * (altura ** 2)\n",
    "\n",
    "# Exibir o resultado\n",
    "print(\"O peso ideal é:\", peso_ideal)"
   ]
  },
  {
   "cell_type": "markdown",
   "metadata": {
    "id": "zEdM6J_i83yP"
   },
   "source": [
    "### 08 - Peso ideal 3\n",
    "Dada uma lista contendo as alturas de pacientes, crie uma nova lista que contenha o peso '*ideal*' (que fornece o IMC calculado em **Peso ideal 1**) desses pacientes."
   ]
  },
  {
   "cell_type": "code",
   "execution_count": 276,
   "metadata": {
    "id": "KN1mB_My83yQ",
    "outputId": "f070d54d-c156-4546-e3c7-b5bc500059d9"
   },
   "outputs": [
    {
     "name": "stdout",
     "output_type": "stream",
     "text": [
      "[82.51, 91.19, 62.71, 59.08]\n"
     ]
    }
   ],
   "source": [
    "lista_alturas = [1.95, 2.05, 1.70, 1.65]\n",
    "\n",
    "# IMC ideal\n",
    "imc_ideal = 21.7\n",
    "\n",
    "# Lista para armazenar os pesos ideais\n",
    "lista_peso_ideal = []\n",
    "\n",
    "# Calcular o peso ideal para cada altura\n",
    "for altura in lista_alturas:\n",
    "    peso_ideal = imc_ideal * (altura ** 2)\n",
    "    lista_peso_ideal.append(round(peso_ideal, 2))  #arredondar casas decimais\n",
    "\n",
    "# Exibir a lista com os pesos ideais\n",
    "print(lista_peso_ideal)"
   ]
  },
  {
   "cell_type": "markdown",
   "metadata": {
    "id": "8OKAtYQM83yQ"
   },
   "source": [
    "### 09 - Peso ideal 4\n",
    "Dada uma lista de tuplas - cada elemento da lista é uma tupla contendo altura e peso de um paciente - crie uma nova lista com o IMC desses pacientes."
   ]
  },
  {
   "cell_type": "code",
   "execution_count": 288,
   "metadata": {
    "id": "FaXgkjzI83yQ",
    "outputId": "8adc5e59-8a72-42db-db6b-6895587e875e"
   },
   "outputs": [
    {
     "name": "stdout",
     "output_type": "stream",
     "text": [
      "[27.78, 27.55, 19.19]\n"
     ]
    }
   ],
   "source": [
    "altura_peso = [(1.80, 90), (1.65, 75), (1.91, 70)]\n",
    "\n",
    "# Lista para armazenar os IMCs\n",
    "imc = []\n",
    "\n",
    "# Calcular o IMC para cada paciente\n",
    "for altura, peso in altura_peso:\n",
    "    valor_imc = peso / (altura ** 2)  # Fórmula do IMC\n",
    "    imc.append(round(valor_imc, 2)) #arredondar casas decimais\n",
    "    \n",
    "print(imc)"
   ]
  },
  {
   "cell_type": "markdown",
   "metadata": {
    "id": "kZdSJqJq83yR"
   },
   "source": [
    "### 10 - Peso ideal 5\n",
    "Dada uma lista de **listas** - cada elemento da lista é uma **lista** contendo altura e peso de um paciente, adicione mais um elemento à lista de cada paciente contendo o IMC do paciente. Verifique também se é 'baixo', 'normal' ou 'alto' segundo os padrões da OMS em que normal é entre 18.5 e 24.9.\n",
    "\n",
    "Reflexão: por que no problema anterior temos que criar uma nova lista, e não podemos adicionar os dados de cada indivíduo à tupla?"
   ]
  },
  {
   "cell_type": "code",
   "execution_count": 294,
   "metadata": {
    "id": "EwszojP283yR"
   },
   "outputs": [
    {
     "name": "stdout",
     "output_type": "stream",
     "text": [
      "[[1.8, 90, 27.78, 'alto'], [1.65, 75, 27.55, 'alto'], [1.91, 70, 19.19, 'normal']]\n"
     ]
    }
   ],
   "source": [
    "altura_peso = [[1.80, 90], [1.65, 75], [1.91, 70]]\n",
    "\n",
    "# seu código\n",
    "\n",
    "for paciente in altura_peso:\n",
    "    altura, peso = paciente\n",
    "    imc = peso / (altura ** 2)  # Calcular o IMC\n",
    "    \n",
    "    # Classificação do IMC\n",
    "    if imc < 18.5:\n",
    "        classificacao = 'baixo'\n",
    "    elif 18.5 <= imc <= 24.9:\n",
    "        classificacao = 'normal'\n",
    "    else:\n",
    "        classificacao = 'alto'\n",
    "    \n",
    "    # Adicionar IMC e classificação à lista do paciente\n",
    "    paciente.append(round(imc , 2)) #arredondar casas decimais\n",
    "    paciente.append(classificacao)\n",
    "\n",
    "# Exibir a lista atualizada\n",
    "print(altura_peso)"
   ]
  },
  {
   "cell_type": "code",
   "execution_count": null,
   "metadata": {},
   "outputs": [],
   "source": []
  }
 ],
 "metadata": {
  "colab": {
   "collapsed_sections": [],
   "provenance": []
  },
  "kernelspec": {
   "display_name": "Python 3 (ipykernel)",
   "language": "python",
   "name": "python3"
  },
  "language_info": {
   "codemirror_mode": {
    "name": "ipython",
    "version": 3
   },
   "file_extension": ".py",
   "mimetype": "text/x-python",
   "name": "python",
   "nbconvert_exporter": "python",
   "pygments_lexer": "ipython3",
   "version": "3.12.4"
  }
 },
 "nbformat": 4,
 "nbformat_minor": 4
}
